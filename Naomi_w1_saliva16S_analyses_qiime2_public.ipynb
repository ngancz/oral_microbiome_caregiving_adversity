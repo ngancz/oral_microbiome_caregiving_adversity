{
 "cells": [
  {
   "cell_type": "markdown",
   "id": "03dc382a",
   "metadata": {},
   "source": [
    "Analyzing Mind Brain Body Wave 1 sequences. Amplicon sequencing of the V4 region of the 16S gene was performed with the 515f/806r primer set (Caporaso et al., 2011) following Earth Microbiome Project (EMP protocol)."
   ]
  },
  {
   "cell_type": "markdown",
   "id": "e9740677",
   "metadata": {},
   "source": [
    "We are using an open source software called Qiime2. Qiime2 is useful for beginners to 16S research because it is well-documented, with extensive online tutorials, and user-friendly. See docs.qiime2.org for more information."
   ]
  },
  {
   "cell_type": "markdown",
   "id": "e9ba5b58",
   "metadata": {},
   "source": [
    "# Import"
   ]
  },
  {
   "cell_type": "markdown",
   "id": "f197e540",
   "metadata": {},
   "source": [
    "We are using the Casava 1.8 paired-end FastQ protocol from Qiime2 documentation: https://docs.qiime2.org/2022.2/tutorials/importing/#importing-seqs.\n",
    "\n",
    "Importing lets us create, from the sequences, a Qiime2 \"artifact\", ie, an object that is manipulable in Qiime2."
   ]
  },
  {
   "cell_type": "code",
   "execution_count": 2,
   "id": "949289d6",
   "metadata": {},
   "outputs": [
    {
     "name": "stdout",
     "output_type": "stream",
     "text": [
      "\u001b[32mImported 5064046_all_16S/fastq as CasavaOneEightSingleLanePerSampleDirFmt to demux-paired-end.qza\u001b[0m\n",
      "\u001b[0m"
     ]
    }
   ],
   "source": [
    "!qiime tools import \\\n",
    "  --type 'SampleData[PairedEndSequencesWithQuality]' \\\n",
    "  --input-path 5064046_all_16S/fastq \\\n",
    "  --input-format CasavaOneEightSingleLanePerSampleDirFmt \\\n",
    "  --output-path demux-paired-end.qza"
   ]
  },
  {
   "cell_type": "markdown",
   "id": "aa03c7ff",
   "metadata": {},
   "source": [
    "Now, we can visualize the data to make sure it imported correctly."
   ]
  },
  {
   "cell_type": "code",
   "execution_count": 4,
   "id": "0e91a528",
   "metadata": {},
   "outputs": [
    {
     "name": "stdout",
     "output_type": "stream",
     "text": [
      "\u001b[32mSaved Visualization to: demux-paired-end.qzv\u001b[0m\n",
      "\u001b[0m"
     ]
    }
   ],
   "source": [
    "!qiime demux summarize\\\n",
    "    --i-data demux-paired-end.qza\\\n",
    "    --o-visualization demux-paired-end.qzv"
   ]
  },
  {
   "cell_type": "markdown",
   "id": "36f7b6b8",
   "metadata": {},
   "source": [
    "We can view the imported sequences by uploading the file to view.qiime2.org. We have 7696724 each of forward and reverse reads."
   ]
  },
  {
   "cell_type": "markdown",
   "id": "ebc34211",
   "metadata": {},
   "source": [
    "# Denoising"
   ]
  },
  {
   "cell_type": "markdown",
   "id": "b46b2272",
   "metadata": {},
   "source": [
    "Note: these sequences do *not* contain primers that would need to be trimmed, so we can proceed to quality control."
   ]
  },
  {
   "cell_type": "markdown",
   "id": "30b91476",
   "metadata": {},
   "source": [
    "Dada2 is a pipeline that includes various quality control steps, including merging the paired ends, removing chimeric sequences, etc. "
   ]
  },
  {
   "cell_type": "code",
   "execution_count": 1,
   "id": "aeefaa0c",
   "metadata": {},
   "outputs": [
    {
     "name": "stdout",
     "output_type": "stream",
     "text": [
      "\u001b[32mSaved FeatureTable[Frequency] to: feature-table.qza\u001b[0m\n",
      "\u001b[32mSaved FeatureData[Sequence] to: rep-seqs.qza\u001b[0m\n",
      "\u001b[32mSaved SampleData[DADA2Stats] to: denoising-stats.qza\u001b[0m\n",
      "\u001b[0m"
     ]
    }
   ],
   "source": [
    "! qiime dada2 denoise-paired \\\n",
    "  --i-demultiplexed-seqs demux-paired-end.qza \\\n",
    "  --p-trunc-len-f 230 \\\n",
    "  --p-trunc-len-r 230 \\\n",
    "  --p-trim-left-r 15 \\\n",
    "  --p-n-threads 0 \\\n",
    "  --o-table feature-table.qza \\\n",
    "  --o-representative-sequences rep-seqs.qza \\\n",
    "  --o-denoising-stats denoising-stats.qza"
   ]
  },
  {
   "cell_type": "code",
   "execution_count": 2,
   "id": "b3047587",
   "metadata": {},
   "outputs": [
    {
     "name": "stdout",
     "output_type": "stream",
     "text": [
      "\u001b[32mSaved Visualization to: feature-table.qzv\u001b[0m\n",
      "\u001b[0m\u001b[32mSaved Visualization to: rep-seqs.qzv\u001b[0m\n",
      "\u001b[0m\u001b[32mSaved Visualization to: denoising-stats.qzv\u001b[0m\n",
      "\u001b[0m"
     ]
    }
   ],
   "source": [
    "# Create visualizations for de-noising artifacts outputted above\n",
    "! qiime feature-table summarize \\\n",
    "  --i-table feature-table.qza \\\n",
    "  --o-visualization feature-table.qzv \\\n",
    "  --m-sample-metadata-file mbb_saliva_metadata_w1.tsv\n",
    "\n",
    "! qiime feature-table tabulate-seqs \\\n",
    "  --i-data rep-seqs.qza \\\n",
    "  --o-visualization rep-seqs.qzv\n",
    "\n",
    "! qiime metadata tabulate \\\n",
    "  --m-input-file denoising-stats.qza \\\n",
    "  --o-visualization denoising-stats.qzv"
   ]
  },
  {
   "cell_type": "markdown",
   "id": "b98f41c4",
   "metadata": {},
   "source": [
    "# Phylogeny"
   ]
  },
  {
   "cell_type": "code",
   "execution_count": 3,
   "id": "c3b9083f",
   "metadata": {},
   "outputs": [
    {
     "name": "stdout",
     "output_type": "stream",
     "text": [
      "\u001b[32mSaved FeatureData[AlignedSequence] to: aligned-rep-seqs.qza\u001b[0m\n",
      "\u001b[0m\u001b[32mSaved FeatureData[AlignedSequence] to: masked-aligned-rep-seqs.qza\u001b[0m\n",
      "\u001b[0m\u001b[32mSaved Phylogeny[Unrooted] to: fasttree-tree.qza\u001b[0m\n",
      "\u001b[0m\u001b[32mSaved Phylogeny[Rooted] to: fasttree-tree-rooted.qza\u001b[0m\n",
      "\u001b[0m"
     ]
    }
   ],
   "source": [
    "# Alignment of representative sequences using MAFFT (ie, infer homology)\n",
    "! qiime alignment mafft \\\n",
    "  --i-sequences rep-seqs.qza \\\n",
    "  --o-alignment aligned-rep-seqs.qza\n",
    "\n",
    "# Mask alignments (eliminate ambiguous alignments)\n",
    "! qiime alignment mask \\\n",
    "  --i-alignment aligned-rep-seqs.qza \\\n",
    "  --o-masked-alignment masked-aligned-rep-seqs.qza\n",
    "\n",
    "# Construct phylogeny using fasttree\n",
    "! qiime phylogeny fasttree \\\n",
    "  --i-alignment masked-aligned-rep-seqs.qza \\\n",
    "  --o-tree fasttree-tree.qza\n",
    "\n",
    "# Root the tree\n",
    "! qiime phylogeny midpoint-root \\\n",
    "  --i-tree fasttree-tree.qza \\\n",
    "  --o-rooted-tree fasttree-tree-rooted.qza"
   ]
  },
  {
   "cell_type": "markdown",
   "id": "616d4631",
   "metadata": {},
   "source": [
    "# Taxonomy"
   ]
  },
  {
   "cell_type": "markdown",
   "id": "2bc22405",
   "metadata": {},
   "source": [
    "Refer to this tutorial https://docs.qiime2.org/2022.2/tutorials/feature-classifier/. For taxonomic assignment, we train a naive bayes classifier on reference sequences/taxonomies. Once the classifier is trained, we can use it to classify our sequences.\n",
    "\n",
    "Our reference database is Silva, as this is very widely used. The version is 138.1, downloaded from: https://docs.qiime2.org/2022.2/data-resources/. Another database we could use is Human Oral Microbiome Database (HOMD). HOMD will have the benefit of including only sequences we'd expect to find in the human oral microbiome, and training the classifier takes less time than Silva. However, Silva is more widely used and has more sequences overall. In a previous project, I found the taxonomic assignment from HOMD- and Silva-trained classifiers to be comparable.\n",
    "\n",
    "Another option is to use a \"bespoke\" bayes classifier, which is weighted to favor sequences we expect to see in this habitat. Many aspects of this are still in development. However, weights are available here: https://github.com/BenKaehler/readytowear; weight used here is this one: https://github.com/BenKaehler/readytowear/blob/master/data/silva_138_1/515f-806r/human-oral.qza and we use reference sequence/taxonomy from the same folder. These are created using deblur outputs of length 150bp, so slightly different from our own samples. We ran both and compared the resulting resolution before choosing. For the benefit of using a bespoke classifier, see: https://www.nature.com/articles/s41467-019-12669-6.\n",
    "\n",
    "The default k-mer length for the classifier is 7. Per Bokulich et al. 2018 (https://www.ncbi.nlm.nih.gov/pmc/articles/PMC5956843/), I'm using a k-mer length of 12."
   ]
  },
  {
   "cell_type": "code",
   "execution_count": 5,
   "id": "845c85b9",
   "metadata": {},
   "outputs": [
    {
     "name": "stdout",
     "output_type": "stream",
     "text": [
      "\u001b[32mSaved FeatureData[Sequence] to: ref-seqs.qza\u001b[0m\n",
      "\u001b[0m"
     ]
    }
   ],
   "source": [
    "#Extract V4 reads from database using the primers used for our data\n",
    "#The min/max length restrictions are to reduce sequences of very unusual length\n",
    "!qiime feature-classifier extract-reads \\\n",
    "  --i-sequences silva-138-99-seqs.qza \\ #from qiime2\n",
    "  --p-f-primer GTGCCAGCMGCCGCGGTAA \\\n",
    "  --p-r-primer GGACTACHVGGGTWTCTAAT \\\n",
    "  --p-min-length 150 \\\n",
    "  --p-max-length 350 \\\n",
    "  --o-reads ref-seqs.qza"
   ]
  },
  {
   "cell_type": "code",
   "execution_count": 11,
   "id": "3a4ce839",
   "metadata": {},
   "outputs": [
    {
     "name": "stdout",
     "output_type": "stream",
     "text": [
      "\u001b[32mSaved TaxonomicClassifier to: nb-classifier-bespoke.qza\u001b[0m\n",
      "\u001b[0m"
     ]
    }
   ],
   "source": [
    "#Train bespoke classifier with k=mer length 12 and human oral class weights\n",
    "! qiime feature-classifier fit-classifier-naive-bayes \\\n",
    "  --i-reference-reads ref-seqs_readytowear.qza \\\n",
    "  --i-reference-taxonomy ref-tax_readytowear.qza \\\n",
    "  --i-class-weight human-oral.qza \\\n",
    "  --p-feat-ext--ngram-range '[12,12]' \\\n",
    "  --o-classifier nb-classifier-bespoke.qza"
   ]
  },
  {
   "cell_type": "code",
   "execution_count": 4,
   "id": "398a1720",
   "metadata": {
    "scrolled": true
   },
   "outputs": [
    {
     "name": "stdout",
     "output_type": "stream",
     "text": [
      "\u001b[32mSaved FeatureData[Taxonomy] to: bespoke-taxonomy.qza\u001b[0m\n",
      "\u001b[0m\u001b[32mSaved Visualization to: bespoke-taxonomy.qzv\u001b[0m\n",
      "\u001b[0m"
     ]
    }
   ],
   "source": [
    "#Assign taxonomy using bespoke classifier\n",
    "! qiime feature-classifier classify-sklearn \\\n",
    "  --i-classifier nb-classifier-bespoke.qza \\\n",
    "  --i-reads rep-seqs.qza \\\n",
    "  --o-classification bespoke-taxonomy.qza\n",
    "\n",
    "! qiime metadata tabulate \\\n",
    "  --m-input-file bespoke-taxonomy.qza \\\n",
    "  --o-visualization bespoke-taxonomy.qzv"
   ]
  },
  {
   "cell_type": "markdown",
   "id": "a4437475",
   "metadata": {},
   "source": [
    "\n",
    "\n",
    "Using the visualization below, we'll determine an appropriate sampling depth for rarefaction."
   ]
  },
  {
   "cell_type": "code",
   "execution_count": 5,
   "id": "9cdfcd37",
   "metadata": {},
   "outputs": [
    {
     "name": "stdout",
     "output_type": "stream",
     "text": [
      "\u001b[32mSaved Visualization to: alpha_rarefaction_curves_.qzv\u001b[0m\r\n",
      "\u001b[0m"
     ]
    }
   ],
   "source": [
    "!qiime diversity alpha-rarefaction \\\n",
    "  --i-table feature-table.qza \\\n",
    "  --o-visualization alpha_rarefaction_curves_.qzv \\\n",
    "  --p-min-depth 10 \\\n",
    "  --p-max-depth 20000"
   ]
  },
  {
   "cell_type": "markdown",
   "id": "ab1d6c20",
   "metadata": {},
   "source": [
    "We can rarefy to 14,697 which will include all samples."
   ]
  },
  {
   "cell_type": "code",
   "execution_count": 6,
   "id": "7dd837c6",
   "metadata": {},
   "outputs": [
    {
     "name": "stdout",
     "output_type": "stream",
     "text": [
      "\u001b[32mSaved FeatureTable[Frequency] to: 14697-feat-table.qza\u001b[0m\n",
      "\u001b[0m\u001b[32mSaved Visualization to: 14697-taxa-barplot.qzv\u001b[0m\n",
      "\u001b[0m"
     ]
    }
   ],
   "source": [
    "# Create rarefied feature table\n",
    "! qiime feature-table rarefy \\\n",
    "  --i-table feature-table.qza \\\n",
    "  --p-sampling-depth 14697 \\\n",
    "  --o-rarefied-table 14697-feat-table.qza\n",
    "\n",
    "#Taxa barplot (non-rarefied) for R analyses\n",
    "##No metadata because it becomes columns in the downloaded CSV\n",
    "##Note: no longer using this; using Biom export for diff abundance instead\n",
    "#! qiime taxa barplot \\\n",
    "#  --i-table feature-table.qza \\\n",
    "#  --i-taxonomy bespoke-taxonomy.qza \\\n",
    "#  --o-visualization taxa-barplot.qzv\n",
    "\n",
    "#Taxa barplot (rarefied) for visuals\n",
    "! qiime taxa barplot \\\n",
    "  --i-table 14697-feat-table.qza \\\n",
    "  --i-taxonomy bespoke-taxonomy.qza \\\n",
    "  --m-metadata-file mbb_saliva_metadata_w1.tsv \\\n",
    "  --o-visualization 14697-taxa-barplot.qzv"
   ]
  },
  {
   "cell_type": "markdown",
   "id": "ca844e82",
   "metadata": {},
   "source": [
    "# Analyses"
   ]
  },
  {
   "cell_type": "code",
   "execution_count": 2,
   "id": "317c696d",
   "metadata": {
    "scrolled": true
   },
   "outputs": [
    {
     "name": "stdout",
     "output_type": "stream",
     "text": [
      "\u001b[32mSaved FeatureTable[Frequency] to: qiime-diversity-results/rarefied_table.qza\u001b[0m\n",
      "\u001b[32mSaved SampleData[AlphaDiversity] to: qiime-diversity-results/faith_pd_vector.qza\u001b[0m\n",
      "\u001b[32mSaved SampleData[AlphaDiversity] to: qiime-diversity-results/observed_features_vector.qza\u001b[0m\n",
      "\u001b[32mSaved SampleData[AlphaDiversity] to: qiime-diversity-results/shannon_vector.qza\u001b[0m\n",
      "\u001b[32mSaved SampleData[AlphaDiversity] to: qiime-diversity-results/evenness_vector.qza\u001b[0m\n",
      "\u001b[32mSaved DistanceMatrix to: qiime-diversity-results/unweighted_unifrac_distance_matrix.qza\u001b[0m\n",
      "\u001b[32mSaved DistanceMatrix to: qiime-diversity-results/weighted_unifrac_distance_matrix.qza\u001b[0m\n",
      "\u001b[32mSaved DistanceMatrix to: qiime-diversity-results/jaccard_distance_matrix.qza\u001b[0m\n",
      "\u001b[32mSaved DistanceMatrix to: qiime-diversity-results/bray_curtis_distance_matrix.qza\u001b[0m\n",
      "\u001b[32mSaved PCoAResults to: qiime-diversity-results/unweighted_unifrac_pcoa_results.qza\u001b[0m\n",
      "\u001b[32mSaved PCoAResults to: qiime-diversity-results/weighted_unifrac_pcoa_results.qza\u001b[0m\n",
      "\u001b[32mSaved PCoAResults to: qiime-diversity-results/jaccard_pcoa_results.qza\u001b[0m\n",
      "\u001b[32mSaved PCoAResults to: qiime-diversity-results/bray_curtis_pcoa_results.qza\u001b[0m\n",
      "\u001b[32mSaved Visualization to: qiime-diversity-results/unweighted_unifrac_emperor.qzv\u001b[0m\n",
      "\u001b[32mSaved Visualization to: qiime-diversity-results/weighted_unifrac_emperor.qzv\u001b[0m\n",
      "\u001b[32mSaved Visualization to: qiime-diversity-results/jaccard_emperor.qzv\u001b[0m\n",
      "\u001b[32mSaved Visualization to: qiime-diversity-results/bray_curtis_emperor.qzv\u001b[0m\n",
      "\u001b[0m"
     ]
    }
   ],
   "source": [
    "#this is rarefied to the highest depth where we can still keep all samples\n",
    "!qiime diversity core-metrics-phylogenetic \\\n",
    "  --i-table feature-table.qza \\\n",
    "  --i-phylogeny fasttree-tree-rooted.qza \\\n",
    "  --m-metadata-file mbb_saliva_metadata_w1.tsv \\\n",
    "  --p-sampling-depth 14697 \\\n",
    "  --output-dir qiime-diversity-results"
   ]
  },
  {
   "cell_type": "markdown",
   "id": "796ad462",
   "metadata": {},
   "source": [
    "\n"
   ]
  },
  {
   "cell_type": "code",
   "execution_count": 3,
   "id": "96e7f113",
   "metadata": {},
   "outputs": [
    {
     "name": "stdout",
     "output_type": "stream",
     "text": [
      "\u001b[32mSaved FeatureTable[Frequency] to: genus_table.qza\u001b[0m\n",
      "\u001b[0m\u001b[32mExported genus_table.qza as BIOMV210DirFmt to directory exported-genus-table\u001b[0m\n",
      "\u001b[0m\u001b[32mSaved FeatureTable[Frequency] to: species_table.qza\u001b[0m\n",
      "\u001b[0m\u001b[32mExported species_table.qza as BIOMV210DirFmt to directory exported-species-table\u001b[0m\n",
      "\u001b[0m\u001b[32mExported feature-table.qza as BIOMV210DirFmt to directory exported-asv-table\u001b[0m\n",
      "\u001b[0m"
     ]
    }
   ],
   "source": [
    "#Export Level 6 table\n",
    "##Collapse to genus level\n",
    "!qiime taxa collapse \\\n",
    "  --i-table feature-table.qza \\\n",
    "  --i-taxonomy bespoke-taxonomy.qza \\\n",
    "  --p-level 6 \\\n",
    "  --o-collapsed-table genus_table.qza\n",
    "\n",
    "##Export to biom directory\n",
    "!qiime tools export \\\n",
    "  --input-path genus_table.qza \\\n",
    "  --output-path exported-genus-table\n",
    "\n",
    "##Convert biom to tsv\n",
    "!biom convert -i exported-genus-table/feature-table.biom -o genus-table.tsv --to-tsv\n",
    "\n",
    "\n",
    "#Export Level 7 table\n",
    "##Collapse to species level\n",
    "!qiime taxa collapse \\\n",
    "  --i-table feature-table.qza \\\n",
    "  --i-taxonomy bespoke-taxonomy.qza \\\n",
    "  --p-level 7 \\\n",
    "  --o-collapsed-table species_table.qza\n",
    "\n",
    "##Export to biom directory\n",
    "!qiime tools export \\\n",
    "  --input-path species_table.qza \\\n",
    "  --output-path exported-species-table\n",
    "\n",
    "##Convert biom to tsv\n",
    "!biom convert -i exported-species-table/feature-table.biom -o species-table.tsv --to-tsv\n",
    "\n",
    "\n",
    "#Export ASV Table\n",
    "!qiime tools export \\\n",
    "  --input-path feature-table.qza \\\n",
    "  --output-path exported-asv-table\n",
    "\n",
    "##Convert biom to tsv\n",
    "!biom convert -i exported-asv-table/feature-table.biom -o asv-table.tsv --to-tsv"
   ]
  },
  {
   "cell_type": "code",
   "execution_count": 1,
   "id": "fc1ee8bb",
   "metadata": {},
   "outputs": [
    {
     "name": "stdout",
     "output_type": "stream",
     "text": [
      "\u001b[32mSaved FeatureTable[Frequency] to: phylum_table.qza\u001b[0m\n",
      "\u001b[0m\u001b[32mExported phylum_table.qza as BIOMV210DirFmt to directory exported-phylum-table\u001b[0m\n",
      "\u001b[0m\u001b[32mSaved FeatureTable[Frequency] to: class_table.qza\u001b[0m\n",
      "\u001b[0m\u001b[32mExported class_table.qza as BIOMV210DirFmt to directory exported-class-table\u001b[0m\n",
      "\u001b[0m\u001b[32mSaved FeatureTable[Frequency] to: order_table.qza\u001b[0m\n",
      "\u001b[0m\u001b[32mExported order_table.qza as BIOMV210DirFmt to directory exported-order-table\u001b[0m\n",
      "\u001b[0m\u001b[32mSaved FeatureTable[Frequency] to: family_table.qza\u001b[0m\n",
      "\u001b[0m\u001b[32mExported family_table.qza as BIOMV210DirFmt to directory exported-family-table\u001b[0m\n",
      "\u001b[0m"
     ]
    }
   ],
   "source": [
    "#Export Level 2 table\n",
    "##Collapse to genus level\n",
    "!qiime taxa collapse \\\n",
    "  --i-table feature-table.qza \\\n",
    "  --i-taxonomy bespoke-taxonomy.qza \\\n",
    "  --p-level 2 \\\n",
    "  --o-collapsed-table phylum_table.qza\n",
    "\n",
    "##Export to biom directory\n",
    "!qiime tools export \\\n",
    "  --input-path phylum_table.qza \\\n",
    "  --output-path exported-phylum-table\n",
    "\n",
    "##Convert biom to tsv\n",
    "!biom convert -i exported-phylum-table/feature-table.biom -o phylum-table.tsv --to-tsv\n",
    "\n",
    "\n",
    "#Export Level 3 table\n",
    "##Collapse to genus level\n",
    "!qiime taxa collapse \\\n",
    "  --i-table feature-table.qza \\\n",
    "  --i-taxonomy bespoke-taxonomy.qza \\\n",
    "  --p-level 3 \\\n",
    "  --o-collapsed-table class_table.qza\n",
    "\n",
    "##Export to biom directory\n",
    "!qiime tools export \\\n",
    "  --input-path class_table.qza \\\n",
    "  --output-path 'exported-class-table'\n",
    "\n",
    "##Convert biom to tsv\n",
    "!biom convert -i 'exported-class-table/feature-table.biom' -o 'class-table.tsv' --to-tsv\n",
    "\n",
    "\n",
    "#Export Level 4 table\n",
    "##Collapse to genus level\n",
    "!qiime taxa collapse \\\n",
    "  --i-table feature-table.qza \\\n",
    "  --i-taxonomy bespoke-taxonomy.qza \\\n",
    "  --p-level 4 \\\n",
    "  --o-collapsed-table order_table.qza\n",
    "\n",
    "##Export to biom directory\n",
    "!qiime tools export \\\n",
    "  --input-path order_table.qza \\\n",
    "  --output-path exported-order-table\n",
    "\n",
    "##Convert biom to tsv\n",
    "!biom convert -i exported-order-table/feature-table.biom -o order-table.tsv --to-tsv\n",
    "\n",
    "\n",
    "#Export Level 5 table\n",
    "##Collapse to genus level\n",
    "!qiime taxa collapse \\\n",
    "  --i-table feature-table.qza \\\n",
    "  --i-taxonomy bespoke-taxonomy.qza \\\n",
    "  --p-level 5 \\\n",
    "  --o-collapsed-table family_table.qza\n",
    "\n",
    "##Export to biom directory\n",
    "!qiime tools export \\\n",
    "  --input-path family_table.qza \\\n",
    "  --output-path exported-family-table\n",
    "\n",
    "##Convert biom to tsv\n",
    "!biom convert -i exported-family-table/feature-table.biom -o family-table.tsv --to-tsv"
   ]
  },
  {
   "cell_type": "code",
   "execution_count": null,
   "id": "a5a52067",
   "metadata": {},
   "outputs": [],
   "source": []
  }
 ],
 "metadata": {
  "kernelspec": {
   "display_name": "Python 3 (ipykernel)",
   "language": "python",
   "name": "python3"
  },
  "language_info": {
   "codemirror_mode": {
    "name": "ipython",
    "version": 3
   },
   "file_extension": ".py",
   "mimetype": "text/x-python",
   "name": "python",
   "nbconvert_exporter": "python",
   "pygments_lexer": "ipython3",
   "version": "3.11.7"
  }
 },
 "nbformat": 4,
 "nbformat_minor": 5
}
